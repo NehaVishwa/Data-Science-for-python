{
 "cells": [
  {
   "cell_type": "code",
   "execution_count": 3,
   "metadata": {},
   "outputs": [
    {
     "name": "stdout",
     "output_type": "stream",
     "text": [
      "Enter an integer84\n",
      "factors of 84 are [1, 2, 3, 4, 6, 7, 12, 14, 21, 28, 42, 84]\n",
      "factor 1 is odd\n",
      "factor 2 is even\n",
      "factor 3 is odd\n",
      "factor 4 is even\n",
      "factor 6 is even\n",
      "factor 7 is odd\n",
      "factor 12 is even\n",
      "factor 14 is even\n",
      "factor 21 is odd\n",
      "factor 28 is even\n",
      "factor 42 is even\n",
      "factor 84 is even\n"
     ]
    }
   ],
   "source": [
    "x = int(input(\"Enter an integer\"))\n",
    "y = []\n",
    "for i in range(1,x+1):\n",
    "    if x%i == 0:\n",
    "        y.append(i)\n",
    "print(\"factors of {} are {}\".format(x,y))\n",
    "for j in range(len(y)):\n",
    "    if y[j]%2 == 0:\n",
    "        print(\"factor {} is even\".format(y[j]))\n",
    "    else:\n",
    "        print(\"factor {} is odd\".format(y[j]))"
   ]
  },
  {
   "cell_type": "code",
   "execution_count": 50,
   "metadata": {},
   "outputs": [
    {
     "name": "stdout",
     "output_type": "stream",
     "text": [
      "enter a stringMy Name is Neha\n",
      "My Name Neha is "
     ]
    }
   ],
   "source": [
    "input_string = input(\"enter a string\")\n",
    "input_string = sorted(input_string.split())\n",
    "for i in input_string:\n",
    "    print(i,end=' ')"
   ]
  },
  {
   "cell_type": "code",
   "execution_count": null,
   "metadata": {},
   "outputs": [],
   "source": [
    "for number in range(10,31):\n",
    "    if number % 2 == 0:\n",
    "        print(number,end=',')"
   ]
  },
  {
   "cell_type": "code",
   "execution_count": 35,
   "metadata": {},
   "outputs": [
    {
     "name": "stdout",
     "output_type": "stream",
     "text": [
      "Enter a stringPython0325\n",
      "Letters: 6\n",
      "Digits: 4\n"
     ]
    }
   ],
   "source": [
    "str = input(\"Enter a string\")\n",
    "letter,digit = 0,0\n",
    "for i in range(len(str)):\n",
    "    if str[i].isdigit():\n",
    "        digit += 1\n",
    "    elif str[i].isalpha():\n",
    "        letter += 1\n",
    "print(\"Letters:\",letter)\n",
    "\n",
    "print(\"Digits:\",digit)"
   ]
  },
  {
   "cell_type": "code",
   "execution_count": 3,
   "metadata": {},
   "outputs": [
    {
     "name": "stdout",
     "output_type": "stream",
     "text": [
      "Enter an string: redivider\n",
      "Palindrome\n"
     ]
    }
   ],
   "source": [
    "num1 = list(input(\"Enter an string: \"))\n",
    "num2 = \" \".join(num1).split()\n",
    "count = 0\n",
    "num1.reverse()\n",
    "for i in range(len(num1)):\n",
    "    if num1[i] == num2[i]:\n",
    "        count = count+1\n",
    "if count == len(num1):\n",
    "    print(\"Palindrome\")\n",
    "else:\n",
    "    print(\"not palindrome\")"
   ]
  }
 ],
 "metadata": {
  "kernelspec": {
   "display_name": "Python 3",
   "language": "python",
   "name": "python3"
  },
  "language_info": {
   "codemirror_mode": {
    "name": "ipython",
    "version": 3
   },
   "file_extension": ".py",
   "mimetype": "text/x-python",
   "name": "python",
   "nbconvert_exporter": "python",
   "pygments_lexer": "ipython3",
   "version": "3.8.3"
  }
 },
 "nbformat": 4,
 "nbformat_minor": 4
}
